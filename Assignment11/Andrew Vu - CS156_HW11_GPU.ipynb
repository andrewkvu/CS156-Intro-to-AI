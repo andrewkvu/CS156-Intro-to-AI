{
 "cells": [
  {
   "cell_type": "markdown",
   "id": "48e51bd4",
   "metadata": {},
   "source": [
    "# <b>CS156 (Introduction to AI), Spring 2022</b>\n",
    "# <u><b>Homework 11 submission</b></u>"
   ]
  },
  {
   "cell_type": "markdown",
   "id": "6e0eaed6",
   "metadata": {},
   "source": [
    "### Roster Name: Andrew Vu\n",
    "### Student ID: 015055911\n",
    "### Email address: andrew.k.vu@sjsu.edu\n",
    "Any special notes or anything you would like to communicate to me about this homework submission goes in here."
   ]
  },
  {
   "cell_type": "markdown",
   "id": "4a8f81ca",
   "metadata": {},
   "source": [
    "##  <u>References and sources </u>"
   ]
  },
  {
   "cell_type": "markdown",
   "id": "0f65efcd",
   "metadata": {},
   "source": [
    "List all your references and sources here.\n",
    "This includes all sites/discussion boards/blogs/posts/etc. where you grabbed some code examples.\n",
    "- https://www.gymlibrary.ml/environments/toy_text/frozen_lake/"
   ]
  },
  {
   "cell_type": "markdown",
   "id": "2482ba2f",
   "metadata": {},
   "source": [
    "##  <u>Solution</u>"
   ]
  },
  {
   "cell_type": "markdown",
   "id": "ebad58da",
   "metadata": {},
   "source": [
    "#### Load libraries and set random number generator seed"
   ]
  },
  {
   "cell_type": "code",
   "execution_count": 29,
   "id": "17e435a7",
   "metadata": {},
   "outputs": [],
   "source": [
    "import numpy as np\n",
    "import pandas as pd\n",
    "import gym\n",
    "\n",
    "from gym import envs"
   ]
  },
  {
   "cell_type": "code",
   "execution_count": 30,
   "id": "adb03227",
   "metadata": {},
   "outputs": [],
   "source": [
    "np.random.seed(42)"
   ]
  },
  {
   "cell_type": "markdown",
   "id": "e5d032f6",
   "metadata": {},
   "source": [
    "#### Code the solution"
   ]
  },
  {
   "cell_type": "code",
   "execution_count": 31,
   "id": "55cfea49",
   "metadata": {},
   "outputs": [
    {
     "name": "stdout",
     "output_type": "stream",
     "text": [
      "\n",
      "\u001b[41mS\u001b[0mFFF\n",
      "FHFH\n",
      "FFFH\n",
      "HFFG\n",
      "Action Space Discrete(4)\n",
      "State Space Discrete(16)\n"
     ]
    }
   ],
   "source": [
    "env = gym.make(\"FrozenLake-v1\", is_slippery=False).env\n",
    "env.seed(42)\n",
    "env.reset()\n",
    "env.render()\n",
    "\n",
    "print(\"Action Space {}\".format(env.action_space))\n",
    "print(\"State Space {}\".format(env.observation_space))\n"
   ]
  },
  {
   "cell_type": "code",
   "execution_count": 32,
   "id": "c6e8720e",
   "metadata": {
    "scrolled": true
   },
   "outputs": [
    {
     "data": {
      "text/plain": [
       "(1, 0.0, False, {'prob': 1.0})"
      ]
     },
     "execution_count": 32,
     "metadata": {},
     "output_type": "execute_result"
    }
   ],
   "source": [
    "env.step(env.action_space.sample())"
   ]
  },
  {
   "cell_type": "code",
   "execution_count": 33,
   "id": "12b2fc35",
   "metadata": {
    "scrolled": false
   },
   "outputs": [
    {
     "name": "stdout",
     "output_type": "stream",
     "text": [
      "\n",
      "\u001b[41mS\u001b[0mFFF\n",
      "FHFH\n",
      "FFFH\n",
      "HFFG\n",
      "  (Right)\n",
      "S\u001b[41mF\u001b[0mFF\n",
      "FHFH\n",
      "FFFH\n",
      "HFFG\n",
      "  (Up)\n",
      "S\u001b[41mF\u001b[0mFF\n",
      "FHFH\n",
      "FFFH\n",
      "HFFG\n",
      "  (Down)\n",
      "SFFF\n",
      "F\u001b[41mH\u001b[0mFH\n",
      "FFFH\n",
      "HFFG\n",
      "  (Up)\n",
      "SFFF\n",
      "F\u001b[41mH\u001b[0mFH\n",
      "FFFH\n",
      "HFFG\n",
      "  (Right)\n",
      "SFFF\n",
      "F\u001b[41mH\u001b[0mFH\n",
      "FFFH\n",
      "HFFG\n",
      "  (Left)\n",
      "SFFF\n",
      "F\u001b[41mH\u001b[0mFH\n",
      "FFFH\n",
      "HFFG\n",
      "Total reward: 0.0\n"
     ]
    }
   ],
   "source": [
    "# taking random steps to understand\n",
    "# so it basically shows the scenario that you take with each step\n",
    "\n",
    "reward_total = 0\n",
    "obs = env.reset()\n",
    "env.render()\n",
    "for i in range(6):\n",
    "    action = env.action_space.sample() # gives random value from discrete(4) [0,1,2,3]\n",
    "    obs, reward, done, info = env.step(action)\n",
    "    reward_total += reward\n",
    "    env.render()\n",
    "    \n",
    "print(\"Total reward: \" + str(reward_total))"
   ]
  },
  {
   "cell_type": "code",
   "execution_count": 34,
   "id": "02e24356",
   "metadata": {
    "scrolled": true
   },
   "outputs": [],
   "source": [
    "# # testing the states\n",
    "# env.s = 12\n",
    "# env.render()"
   ]
  },
  {
   "cell_type": "code",
   "execution_count": 35,
   "id": "20877af0",
   "metadata": {},
   "outputs": [
    {
     "name": "stdout",
     "output_type": "stream",
     "text": [
      "Episode 50 Total Reward: 0.0\n",
      "Episode 100 Total Reward: 0.0\n",
      "Episode 150 Total Reward: 0.0\n",
      "Episode 200 Total Reward: 0.0\n",
      "Episode 250 Total Reward: 0.0\n",
      "Episode 300 Total Reward: 0.0\n",
      "Episode 350 Total Reward: 0.0\n",
      "Episode 400 Total Reward: 0.0\n",
      "Episode 450 Total Reward: 0.0\n",
      "Episode 500 Total Reward: 0.0\n",
      "Episode 550 Total Reward: 0.0\n",
      "Episode 600 Total Reward: 0.0\n",
      "Episode 650 Total Reward: 0.0\n",
      "Episode 700 Total Reward: 0.0\n",
      "Episode 750 Total Reward: 0.0\n",
      "Episode 800 Total Reward: 0.0\n",
      "Episode 850 Total Reward: 0.0\n",
      "Episode 900 Total Reward: 0.0\n",
      "Episode 950 Total Reward: 0.0\n",
      "Episode 1000 Total Reward: 0.0\n",
      "Episode 1050 Total Reward: 0.0\n",
      "Episode 1100 Total Reward: 0.0\n",
      "Episode 1150 Total Reward: 0.0\n",
      "Episode 1200 Total Reward: 0.0\n",
      "Episode 1250 Total Reward: 0.0\n",
      "Episode 1300 Total Reward: 0.0\n",
      "Episode 1350 Total Reward: 0.0\n",
      "Episode 1400 Total Reward: 0.0\n",
      "Episode 1450 Total Reward: 0.0\n",
      "Episode 1500 Total Reward: 0.0\n",
      "Episode 1550 Total Reward: 0.0\n",
      "Episode 1600 Total Reward: 0.0\n",
      "Episode 1650 Total Reward: 0.0\n",
      "Episode 1700 Total Reward: 0.0\n",
      "Episode 1750 Total Reward: 0.0\n",
      "Episode 1800 Total Reward: 0.0\n",
      "Episode 1850 Total Reward: 0.0\n",
      "Episode 1900 Total Reward: 0.0\n",
      "Episode 1950 Total Reward: 0.0\n",
      "Episode 2000 Total Reward: 0.0\n",
      "Episode 2050 Total Reward: 0.0\n",
      "Episode 2100 Total Reward: 0.0\n",
      "Episode 2150 Total Reward: 0.0\n",
      "Episode 2200 Total Reward: 0.0\n",
      "Episode 2250 Total Reward: 0.0\n",
      "Episode 2300 Total Reward: 0.0\n",
      "Episode 2350 Total Reward: 0.0\n",
      "Episode 2400 Total Reward: 0.0\n",
      "Episode 2450 Total Reward: 0.0\n",
      "Episode 2500 Total Reward: 0.0\n",
      "Episode 2550 Total Reward: 0.0\n",
      "Episode 2600 Total Reward: 0.0\n",
      "Episode 2650 Total Reward: 0.0\n",
      "Episode 2700 Total Reward: 0.0\n",
      "Episode 2750 Total Reward: 0.0\n",
      "Episode 2800 Total Reward: 0.0\n",
      "Episode 2850 Total Reward: 0.0\n",
      "Episode 2900 Total Reward: 1.0\n",
      "Episode 2950 Total Reward: 1.0\n",
      "Episode 3000 Total Reward: 1.0\n",
      "Episode 3050 Total Reward: 1.0\n",
      "Episode 3100 Total Reward: 1.0\n",
      "Episode 3150 Total Reward: 1.0\n",
      "Episode 3200 Total Reward: 0.0\n",
      "Episode 3250 Total Reward: 1.0\n",
      "Episode 3300 Total Reward: 1.0\n",
      "Episode 3350 Total Reward: 1.0\n",
      "Episode 3400 Total Reward: 1.0\n",
      "Episode 3450 Total Reward: 0.0\n",
      "Episode 3500 Total Reward: 0.0\n",
      "Episode 3550 Total Reward: 0.0\n",
      "Episode 3600 Total Reward: 0.0\n",
      "Episode 3650 Total Reward: 0.0\n",
      "Episode 3700 Total Reward: 1.0\n",
      "Episode 3750 Total Reward: 1.0\n",
      "Episode 3800 Total Reward: 1.0\n",
      "Episode 3850 Total Reward: 1.0\n",
      "Episode 3900 Total Reward: 1.0\n",
      "Episode 3950 Total Reward: 0.0\n",
      "Episode 4000 Total Reward: 1.0\n",
      "Episode 4050 Total Reward: 1.0\n",
      "Episode 4100 Total Reward: 0.0\n",
      "Episode 4150 Total Reward: 0.0\n",
      "Episode 4200 Total Reward: 1.0\n",
      "Episode 4250 Total Reward: 1.0\n",
      "Episode 4300 Total Reward: 1.0\n",
      "Episode 4350 Total Reward: 1.0\n",
      "Episode 4400 Total Reward: 1.0\n",
      "Episode 4450 Total Reward: 1.0\n",
      "Episode 4500 Total Reward: 0.0\n",
      "Episode 4550 Total Reward: 1.0\n",
      "Episode 4600 Total Reward: 1.0\n",
      "Episode 4650 Total Reward: 1.0\n",
      "Episode 4700 Total Reward: 1.0\n",
      "Episode 4750 Total Reward: 1.0\n",
      "Episode 4800 Total Reward: 1.0\n",
      "Episode 4850 Total Reward: 1.0\n",
      "Episode 4900 Total Reward: 1.0\n",
      "Episode 4950 Total Reward: 1.0\n",
      "Episode 5000 Total Reward: 1.0\n",
      "Episode 5050 Total Reward: 1.0\n",
      "Episode 5100 Total Reward: 1.0\n",
      "Episode 5150 Total Reward: 0.0\n",
      "Episode 5200 Total Reward: 1.0\n",
      "Episode 5250 Total Reward: 1.0\n",
      "Episode 5300 Total Reward: 1.0\n",
      "Episode 5350 Total Reward: 1.0\n",
      "Episode 5400 Total Reward: 1.0\n",
      "Episode 5450 Total Reward: 1.0\n",
      "Episode 5500 Total Reward: 1.0\n",
      "Episode 5550 Total Reward: 1.0\n",
      "Episode 5600 Total Reward: 1.0\n",
      "Episode 5650 Total Reward: 1.0\n",
      "Episode 5700 Total Reward: 1.0\n",
      "Episode 5750 Total Reward: 1.0\n",
      "Episode 5800 Total Reward: 1.0\n",
      "Episode 5850 Total Reward: 1.0\n",
      "Episode 5900 Total Reward: 0.0\n",
      "Episode 5950 Total Reward: 0.0\n",
      "Episode 6000 Total Reward: 0.0\n",
      "Episode 6050 Total Reward: 0.0\n",
      "Episode 6100 Total Reward: 1.0\n",
      "Episode 6150 Total Reward: 0.0\n",
      "Episode 6200 Total Reward: 1.0\n",
      "Episode 6250 Total Reward: 0.0\n",
      "Episode 6300 Total Reward: 1.0\n",
      "Episode 6350 Total Reward: 1.0\n",
      "Episode 6400 Total Reward: 1.0\n",
      "Episode 6450 Total Reward: 1.0\n",
      "Episode 6500 Total Reward: 1.0\n",
      "Episode 6550 Total Reward: 1.0\n",
      "Episode 6600 Total Reward: 0.0\n",
      "Episode 6650 Total Reward: 1.0\n",
      "Episode 6700 Total Reward: 0.0\n",
      "Episode 6750 Total Reward: 1.0\n",
      "Episode 6800 Total Reward: 1.0\n",
      "Episode 6850 Total Reward: 1.0\n",
      "Episode 6900 Total Reward: 0.0\n",
      "Episode 6950 Total Reward: 1.0\n",
      "Episode 7000 Total Reward: 1.0\n",
      "Episode 7050 Total Reward: 0.0\n",
      "Episode 7100 Total Reward: 1.0\n",
      "Episode 7150 Total Reward: 1.0\n",
      "Episode 7200 Total Reward: 1.0\n",
      "Episode 7250 Total Reward: 0.0\n",
      "Episode 7300 Total Reward: 0.0\n",
      "Episode 7350 Total Reward: 1.0\n",
      "Episode 7400 Total Reward: 1.0\n",
      "Episode 7450 Total Reward: 1.0\n",
      "Episode 7500 Total Reward: 0.0\n",
      "Episode 7550 Total Reward: 1.0\n",
      "Episode 7600 Total Reward: 1.0\n",
      "Episode 7650 Total Reward: 1.0\n",
      "Episode 7700 Total Reward: 1.0\n",
      "Episode 7750 Total Reward: 1.0\n",
      "Episode 7800 Total Reward: 1.0\n",
      "Episode 7850 Total Reward: 1.0\n",
      "Episode 7900 Total Reward: 1.0\n",
      "Episode 7950 Total Reward: 1.0\n",
      "Episode 8000 Total Reward: 1.0\n",
      "Episode 8050 Total Reward: 1.0\n",
      "Episode 8100 Total Reward: 1.0\n",
      "Episode 8150 Total Reward: 0.0\n",
      "Episode 8200 Total Reward: 0.0\n",
      "Episode 8250 Total Reward: 1.0\n",
      "Episode 8300 Total Reward: 1.0\n",
      "Episode 8350 Total Reward: 1.0\n",
      "Episode 8400 Total Reward: 1.0\n",
      "Episode 8450 Total Reward: 0.0\n",
      "Episode 8500 Total Reward: 1.0\n",
      "Episode 8550 Total Reward: 0.0\n",
      "Episode 8600 Total Reward: 1.0\n",
      "Episode 8650 Total Reward: 1.0\n",
      "Episode 8700 Total Reward: 1.0\n",
      "Episode 8750 Total Reward: 1.0\n",
      "Episode 8800 Total Reward: 0.0\n",
      "Episode 8850 Total Reward: 1.0\n",
      "Episode 8900 Total Reward: 1.0\n",
      "Episode 8950 Total Reward: 0.0\n",
      "Episode 9000 Total Reward: 1.0\n",
      "Episode 9050 Total Reward: 1.0\n",
      "Episode 9100 Total Reward: 1.0\n",
      "Episode 9150 Total Reward: 1.0\n",
      "Episode 9200 Total Reward: 1.0\n",
      "Episode 9250 Total Reward: 1.0\n",
      "Episode 9300 Total Reward: 1.0\n",
      "Episode 9350 Total Reward: 1.0\n",
      "Episode 9400 Total Reward: 1.0\n",
      "Episode 9450 Total Reward: 1.0\n",
      "Episode 9500 Total Reward: 1.0\n",
      "Episode 9550 Total Reward: 1.0\n",
      "Episode 9600 Total Reward: 0.0\n",
      "Episode 9650 Total Reward: 1.0\n",
      "Episode 9700 Total Reward: 1.0\n",
      "Episode 9750 Total Reward: 1.0\n",
      "Episode 9800 Total Reward: 1.0\n",
      "Episode 9850 Total Reward: 1.0\n",
      "Episode 9900 Total Reward: 1.0\n",
      "Episode 9950 Total Reward: 0.0\n",
      "Episode 10000 Total Reward: 0.0\n",
      "[[0.531441   0.59049    0.59049    0.531441  ]\n",
      " [0.531441   0.         0.6561     0.59049   ]\n",
      " [0.59049    0.729      0.59049    0.6561    ]\n",
      " [0.6561     0.         0.53144047 0.58458509]\n",
      " [0.59049    0.6561     0.         0.531441  ]\n",
      " [0.         0.         0.         0.        ]\n",
      " [0.         0.81       0.         0.6561    ]\n",
      " [0.         0.         0.         0.        ]\n",
      " [0.6561     0.         0.729      0.59049   ]\n",
      " [0.6561     0.81       0.81       0.        ]\n",
      " [0.729      0.9        0.         0.729     ]\n",
      " [0.         0.         0.         0.        ]\n",
      " [0.         0.         0.         0.        ]\n",
      " [0.         0.81       0.9        0.729     ]\n",
      " [0.81       0.9        1.         0.81      ]\n",
      " [0.         0.         0.         0.        ]]\n"
     ]
    }
   ],
   "source": [
    "qtable = np.zeros([env.observation_space.n, env.action_space.n]) # table of zeros where\n",
    "# number of rows = env.observation_space.n, number of cols = env.action_space.n\n",
    "discount = 0.9 # discount factor\n",
    "learningrate = 0.9 # learning rate\n",
    "epsilon = 0.2 # threshold of stochasticity\n",
    "for episode in range(1, 10001):\n",
    "    done = False\n",
    "    reward_total = 0\n",
    "    state = env.reset()\n",
    "    while done != True:\n",
    "        explore_exploit = np.random.uniform(0, 1)\n",
    "        if explore_exploit < epsilon:\n",
    "            action = env.action_space.sample() # explore action space\n",
    "        else:\n",
    "            action = np.argmax(qtable[state]) # exploit learned values\n",
    "            \n",
    "        state_new, reward, done, info = env.step(action) # take action\n",
    "        \n",
    "        #Bellman Equation\n",
    "        qtable[state,action] += learningrate * (reward + discount * np.max(qtable[state_new,:]) - qtable[state,action])\n",
    "        reward_total += reward\n",
    "        state = state_new\n",
    "    if episode % 50 == 0:\n",
    "        print('Episode {} Total Reward: {}'.format(episode,reward_total))\n",
    "        \n",
    "print(qtable)"
   ]
  },
  {
   "cell_type": "code",
   "execution_count": 36,
   "id": "9ea2042a",
   "metadata": {
    "scrolled": true
   },
   "outputs": [
    {
     "name": "stdout",
     "output_type": "stream",
     "text": [
      "[[0.531441   0.59049    0.59049    0.531441  ]\n",
      " [0.531441   0.         0.6561     0.59049   ]\n",
      " [0.59049    0.729      0.59049    0.6561    ]\n",
      " [0.6561     0.         0.53144047 0.58458509]\n",
      " [0.59049    0.6561     0.         0.531441  ]\n",
      " [0.         0.         0.         0.        ]\n",
      " [0.         0.81       0.         0.6561    ]\n",
      " [0.         0.         0.         0.        ]\n",
      " [0.6561     0.         0.729      0.59049   ]\n",
      " [0.6561     0.81       0.81       0.        ]\n",
      " [0.729      0.9        0.         0.729     ]\n",
      " [0.         0.         0.         0.        ]\n",
      " [0.         0.         0.         0.        ]\n",
      " [0.         0.81       0.9        0.729     ]\n",
      " [0.81       0.9        1.         0.81      ]\n",
      " [0.         0.         0.         0.        ]]\n"
     ]
    }
   ],
   "source": [
    "print(qtable)\n"
   ]
  },
  {
   "cell_type": "code",
   "execution_count": 43,
   "id": "3cbb0867",
   "metadata": {},
   "outputs": [
    {
     "name": "stdout",
     "output_type": "stream",
     "text": [
      "0\n",
      "\n",
      "\u001b[41mS\u001b[0mFFF\n",
      "FHFH\n",
      "FFFH\n",
      "HFFG\n",
      "  (Down)\n",
      "SFFF\n",
      "\u001b[41mF\u001b[0mHFH\n",
      "FFFH\n",
      "HFFG\n",
      "  (Down)\n",
      "SFFF\n",
      "FHFH\n",
      "\u001b[41mF\u001b[0mFFH\n",
      "HFFG\n",
      "  (Right)\n",
      "SFFF\n",
      "FHFH\n",
      "F\u001b[41mF\u001b[0mFH\n",
      "HFFG\n",
      "  (Down)\n",
      "SFFF\n",
      "FHFH\n",
      "FFFH\n",
      "H\u001b[41mF\u001b[0mFG\n",
      "  (Right)\n",
      "SFFF\n",
      "FHFH\n",
      "FFFH\n",
      "HF\u001b[41mF\u001b[0mG\n",
      "  (Right)\n",
      "SFFF\n",
      "FHFH\n",
      "FFFH\n",
      "HFF\u001b[41mG\u001b[0m\n",
      "Total reward is 1.0\n"
     ]
    }
   ],
   "source": [
    "# rows is  0-15 for the current state\n",
    "# 0, 4, 8, 12 is first col\n",
    "# 1, 5, 9, 13 is 2nd col, etc\n",
    "\n",
    "# cols is 0-3 for the action\n",
    "\n",
    "# 0: LEFT\n",
    "\n",
    "# 1: DOWN\n",
    "\n",
    "# 2: RIGHT\n",
    "\n",
    "# 3: UP\n",
    "\n",
    "obs = env.reset()\n",
    "print(obs)\n",
    "env.s = 0\n",
    "env.render()\n",
    "done = False\n",
    "reward_total = 0\n",
    "while done != True:\n",
    "    action = np.argmax(qtable[obs]) # take the highest value from the qtable\n",
    "    obs, reward, done, info = env.step(action)\n",
    "    reward_total += reward\n",
    "    env.render()\n",
    "    \n",
    "print(\"Total reward is\", reward_total)"
   ]
  },
  {
   "cell_type": "code",
   "execution_count": null,
   "id": "2ff48be9",
   "metadata": {},
   "outputs": [],
   "source": []
  }
 ],
 "metadata": {
  "kernelspec": {
   "display_name": "gpu2",
   "language": "python",
   "name": "gpu2"
  },
  "language_info": {
   "codemirror_mode": {
    "name": "ipython",
    "version": 3
   },
   "file_extension": ".py",
   "mimetype": "text/x-python",
   "name": "python",
   "nbconvert_exporter": "python",
   "pygments_lexer": "ipython3",
   "version": "3.6.13"
  }
 },
 "nbformat": 4,
 "nbformat_minor": 5
}
