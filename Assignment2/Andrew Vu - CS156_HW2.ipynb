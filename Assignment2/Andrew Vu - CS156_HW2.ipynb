{
 "cells": [
  {
   "cell_type": "markdown",
   "metadata": {},
   "source": [
    "# <b>CS156 (Introduction to AI), Spring 2022</b>\n",
    "# <u><b>Homework 2 submission</b></u>"
   ]
  },
  {
   "cell_type": "markdown",
   "metadata": {},
   "source": [
    "### Roster Name: Andrew Vu\n",
    "### Student ID: 015055911\n",
    "### Email address: andrew.k.vu@sjsu.edu\n",
    "Any special notes or anything you would like to communicate to me about this homework submission goes in here."
   ]
  },
  {
   "cell_type": "markdown",
   "metadata": {},
   "source": [
    "##  <u>References and sources </u>"
   ]
  },
  {
   "cell_type": "markdown",
   "metadata": {},
   "source": [
    "List all your references and sources here.\n",
    "This includes all sites/discussion boards/blogs/posts/etc. where you grabbed some code examples.\n",
    "\n",
    "From files section of Canvas page:  \n",
    "knn.synthetic_data  \n",
    "kmeans.synthetic_data  \n",
    "  \n",
    "https://machinelearningmastery.com/tutorial-to-implement-k-nearest-neighbors-in-python-from-scratch/  \n",
    "https://towardsdatascience.com/how-to-build-knn-from-scratch-in-python-5e22b8920bd2  \n",
    "https://www.askpython.com/python/examples/k-nearest-neighbors-from-scratch  \n",
    "https://medium.com/analytics-vidhya/knn-implementation-from-scratch-96-6-accuracy-python-machine-learning-31ba66958644  \n",
    "https://medium.com/analytics-vidhya/implementing-k-nearest-neighbours-knn-without-using-scikit-learn-3905b4decc3c"
   ]
  },
  {
   "cell_type": "markdown",
   "metadata": {},
   "source": [
    "##  <u>Solution</u>"
   ]
  },
  {
   "cell_type": "markdown",
   "metadata": {},
   "source": [
    "#### Load libraries and set random number generator seed"
   ]
  },
  {
   "cell_type": "code",
   "execution_count": 237,
   "metadata": {},
   "outputs": [],
   "source": [
    "import numpy as np\n",
    "import pandas as pd\n",
    "import matplotlib.pyplot as plt\n",
    "from sklearn.model_selection import train_test_split\n",
    "from scipy.spatial import distance\n",
    "from scipy.stats import mode\n",
    "from sklearn.metrics import accuracy_score"
   ]
  },
  {
   "cell_type": "code",
   "execution_count": 238,
   "metadata": {},
   "outputs": [],
   "source": [
    "np.random.seed(42)"
   ]
  },
  {
   "cell_type": "markdown",
   "metadata": {},
   "source": [
    "#### Code the solution"
   ]
  },
  {
   "cell_type": "markdown",
   "metadata": {},
   "source": [
    "### KNN FUNCTION"
   ]
  },
  {
   "cell_type": "code",
   "execution_count": 239,
   "metadata": {},
   "outputs": [],
   "source": [
    "# newObservation is a point in the test data set\n",
    "# referenceData is the training data set\n",
    "\n",
    "def knn(newObservation, referenceData, k=3):\n",
    "    distances_from_newdata = []  # array to store distances\n",
    "    k_shortest_distances = []    # array for the k shortest distances\n",
    "    \n",
    "    # compute the distance between each point in the reference data and the newObservation point\n",
    "    for i in range(len(referenceData)):\n",
    "        dist = distance.euclidean(referenceData.iloc[i], newObservation) \n",
    "        distances_from_newdata.append([dist, i]) # add this computed distance to the distances_from_newdata array with its index\n",
    "    distances_from_newdata.sort()\n",
    "    k_shortest_distances = (distances_from_newdata)[0:k]\n",
    "\n",
    "    return k_shortest_distances # returns the array of the k shortest distances with their respective row number"
   ]
  },
  {
   "cell_type": "markdown",
   "metadata": {},
   "source": [
    "### PREDICTIONS FUNCTION"
   ]
  },
  {
   "cell_type": "code",
   "execution_count": 240,
   "metadata": {},
   "outputs": [],
   "source": [
    "def predictions(X_test, ref_data, Y_train):\n",
    "    labels = [] # output\n",
    "    for i in range(len(X_test)):\n",
    "        modelabels = [] # create a separate array for determining the majority of the labels\n",
    "        distance_indexes = knn(X_test.iloc[i], ref_data, k=3)\n",
    "        for j in range(len(distance_indexes)): # for however many distances there are in the return value of knn\n",
    "            modelabels.append(Y_train[distance_indexes[j][1]]) # append that distance's Y_train label value to a separate array\n",
    "        lab = mode(modelabels) # returns an array of the majority of the labels as well as the count of how many\n",
    "        lab = lab.mode[0]      # returns specifically the mode\n",
    "        labels.append(lab)     # adds this label to the real labels       \n",
    "    return labels"
   ]
  },
  {
   "cell_type": "markdown",
   "metadata": {},
   "source": [
    "## Generate 2D Data"
   ]
  },
  {
   "cell_type": "code",
   "execution_count": 241,
   "metadata": {},
   "outputs": [],
   "source": [
    "n = 100 # n = data points\n",
    "\n",
    "# loc = mean or mass of gravity in which the generated data centers around this value\n",
    "# scale = standard deviation\n",
    "# size = how many data points you want \n",
    "\n",
    "# CLASS 0\n",
    "X0 = np.random.normal(loc = -2.0, scale = 2.0, size = int(n/2)) \n",
    "Y0 = np.random.normal(loc = 0.0, scale = 1.0, size = int(n/2))\n",
    "\n",
    "# CLASS 1\n",
    "X1 = np.random.normal(loc = 2.0, scale = 2.0, size = int(n/2)) \n",
    "Y1 = np.random.normal(loc = 0.0, scale = 1.0, size = int(n/2))\n",
    "\n",
    "X = np.concatenate((X0, X1), axis = 0)\n",
    "Y = np.concatenate((Y0, Y1), axis = 0)"
   ]
  },
  {
   "cell_type": "markdown",
   "metadata": {},
   "source": [
    "### Generate Labels for 2D"
   ]
  },
  {
   "cell_type": "code",
   "execution_count": 242,
   "metadata": {},
   "outputs": [],
   "source": [
    "l1 = [0]*int(n/2)\n",
    "l2 = [1]*int(n/2)\n",
    "labels2D = l1+l2"
   ]
  },
  {
   "cell_type": "markdown",
   "metadata": {},
   "source": [
    "### Visualize the generated data"
   ]
  },
  {
   "cell_type": "code",
   "execution_count": 243,
   "metadata": {},
   "outputs": [
    {
     "data": {
      "text/html": [
       "<div>\n",
       "<style scoped>\n",
       "    .dataframe tbody tr th:only-of-type {\n",
       "        vertical-align: middle;\n",
       "    }\n",
       "\n",
       "    .dataframe tbody tr th {\n",
       "        vertical-align: top;\n",
       "    }\n",
       "\n",
       "    .dataframe thead th {\n",
       "        text-align: right;\n",
       "    }\n",
       "</style>\n",
       "<table border=\"1\" class=\"dataframe\">\n",
       "  <thead>\n",
       "    <tr style=\"text-align: right;\">\n",
       "      <th></th>\n",
       "      <th>X</th>\n",
       "      <th>Y</th>\n",
       "    </tr>\n",
       "  </thead>\n",
       "  <tbody>\n",
       "    <tr>\n",
       "      <th>0</th>\n",
       "      <td>-1.006572</td>\n",
       "      <td>0.324084</td>\n",
       "    </tr>\n",
       "    <tr>\n",
       "      <th>1</th>\n",
       "      <td>-2.276529</td>\n",
       "      <td>-0.385082</td>\n",
       "    </tr>\n",
       "    <tr>\n",
       "      <th>2</th>\n",
       "      <td>-0.704623</td>\n",
       "      <td>-0.676922</td>\n",
       "    </tr>\n",
       "    <tr>\n",
       "      <th>3</th>\n",
       "      <td>1.046060</td>\n",
       "      <td>0.611676</td>\n",
       "    </tr>\n",
       "    <tr>\n",
       "      <th>4</th>\n",
       "      <td>-2.468307</td>\n",
       "      <td>1.031000</td>\n",
       "    </tr>\n",
       "  </tbody>\n",
       "</table>\n",
       "</div>"
      ],
      "text/plain": [
       "          X         Y\n",
       "0 -1.006572  0.324084\n",
       "1 -2.276529 -0.385082\n",
       "2 -0.704623 -0.676922\n",
       "3  1.046060  0.611676\n",
       "4 -2.468307  1.031000"
      ]
     },
     "execution_count": 243,
     "metadata": {},
     "output_type": "execute_result"
    }
   ],
   "source": [
    "dt = pd.DataFrame({'X':X, 'Y':Y}, columns=['X', 'Y'])\n",
    "dt.head()"
   ]
  },
  {
   "cell_type": "code",
   "execution_count": 244,
   "metadata": {},
   "outputs": [
    {
     "name": "stdout",
     "output_type": "stream",
     "text": [
      "           X         Y\n",
      "43 -2.602207 -0.327662\n",
      "62  2.120460  1.158596\n",
      "3   1.046060  0.611676\n",
      "71  0.181225 -0.815810\n",
      "45 -3.439688 -1.463515\n",
      "..       ...       ...\n",
      "96 -0.473901 -0.883857\n",
      "67 -0.337356  1.896793\n",
      "64  1.615278  0.963376\n",
      "47  0.114244  0.261055\n",
      "44 -4.957044 -0.392108\n",
      "\n",
      "[80 rows x 2 columns]\n"
     ]
    }
   ],
   "source": [
    "X_train, X_test, Y_train, Y_test = train_test_split(dt, labels2D, test_size=0.2, random_state=0)\n",
    "# X_train = data for training set\n",
    "# X_test = data for test set\n",
    "# Y_train = labels 0/1 for training set\n",
    "# Y_test = labels 0/1 or test set\n",
    "# 80% training, 20% test split\n",
    "print(X_train)"
   ]
  },
  {
   "cell_type": "markdown",
   "metadata": {},
   "source": [
    "### ACCURACY FOR 2D"
   ]
  },
  {
   "cell_type": "code",
   "execution_count": 245,
   "metadata": {
    "scrolled": true
   },
   "outputs": [
    {
     "name": "stdout",
     "output_type": "stream",
     "text": [
      "[0, 1, 0, 1, 1, 1, 0, 1, 1, 1, 1, 1, 1, 0, 0, 0, 0, 0, 0, 0]\n",
      "[0, 0, 0, 1, 1, 1, 0, 1, 1, 1, 1, 0, 1, 0, 0, 0, 0, 0, 0, 0]\n",
      "Accuracy of the predictions on the 2D test dataset is 0.9\n"
     ]
    }
   ],
   "source": [
    "prediction_results = predictions(X_test, X_train, Y_train)\n",
    "print(Y_test)\n",
    "print(prediction_results)\n",
    "print(\"Accuracy of the predictions on the 2D test dataset is \" + str(accuracy_score(Y_test, prediction_results)))"
   ]
  },
  {
   "cell_type": "markdown",
   "metadata": {},
   "source": [
    "### ACTUAL VS PREDICTED LABELS VISUALIZATION"
   ]
  },
  {
   "cell_type": "code",
   "execution_count": 246,
   "metadata": {},
   "outputs": [
    {
     "data": {
      "image/png": "[encoded data removed]",
      "text/plain": [
       "<Figure size 432x288 with 2 Axes>"
      ]
     },
     "metadata": {
      "needs_background": "light"
     },
     "output_type": "display_data"
    }
   ],
   "source": [
    "plt.subplot(1, 2, 1)\n",
    "plt.scatter(X_train.iloc[:,0],X_train.iloc[:,1], s=25, c=Y_train, marker=\".\")\n",
    "plt.scatter(X_test.iloc[:,0],X_test.iloc[:,1], s=50, c=Y_test, marker=\"v\")\n",
    "plt.title(\"Actual labels\")\n",
    "\n",
    "plt.subplot(1, 2, 2)\n",
    "plt.scatter(X_train.iloc[:,0],X_train.iloc[:,1], s=25, c=Y_train, marker=\".\")\n",
    "plt.scatter(X_test.iloc[:,0],X_test.iloc[:,1], s=50, c=prediction_results, marker=\"v\")\n",
    "plt.title(\"Predicted labels\")\n",
    "\n",
    "plt.tight_layout()\n",
    "plt.show()"
   ]
  },
  {
   "cell_type": "markdown",
   "metadata": {},
   "source": [
    "## Generate 3-D data"
   ]
  },
  {
   "cell_type": "code",
   "execution_count": 247,
   "metadata": {},
   "outputs": [],
   "source": [
    "n = 1000 # n data points\n",
    "\n",
    "# CLASS 0\n",
    "X0 = np.random.normal(loc = 0, scale = 3, size = int(n/4))\n",
    "Y0 = np.random.normal(loc = -3, scale = 1, size = int(n/4))\n",
    "Z0 = np.random.normal(loc = -1, scale = 1, size = int(n/4))\n",
    "# CLASS 1\n",
    "X1 = np.random.normal(loc = 0, scale = 3, size = int(n/4))\n",
    "Y1 = np.random.normal(loc = 1, scale = 2, size = int(n/4))\n",
    "Z1 = np.random.normal(loc = 1, scale = 1, size = int(n/4))\n",
    "# CLASS 2\n",
    "X2 = np.random.normal(loc = 0, scale = 3, size = int(n/4))\n",
    "Y2 = np.random.normal(loc = 3, scale = 1, size = int(n/4))\n",
    "Z2 = np.random.normal(loc = 4, scale = 1, size = int(n/4))\n",
    "# CLASS 3\n",
    "X3 = np.random.normal(loc = 0, scale = 3, size = int(n/4))\n",
    "Y3 = np.random.normal(loc = 5, scale = 3, size = int(n/4))\n",
    "Z3 = np.random.normal(loc = -3, scale = 1, size = int(n/4))\n",
    "\n",
    "X = np.concatenate((X0, X1, X2, X3), axis = 0)\n",
    "Y = np.concatenate((Y0, Y1, Y2, Y3), axis = 0)\n",
    "Z = np.concatenate((Z0, Z1, Z2, Z3), axis = 0)"
   ]
  },
  {
   "cell_type": "code",
   "execution_count": 248,
   "metadata": {},
   "outputs": [],
   "source": [
    "l1 = [0]*int(n/4)\n",
    "l2 = [1]*int(n/4)\n",
    "l3 = [2]*int(n/4)\n",
    "l4 = [3]*int(n/4)\n",
    "labels3D = l1+l2+l3+l4"
   ]
  },
  {
   "cell_type": "code",
   "execution_count": 249,
   "metadata": {
    "scrolled": true
   },
   "outputs": [
    {
     "data": {
      "text/html": [
       "<div>\n",
       "<style scoped>\n",
       "    .dataframe tbody tr th:only-of-type {\n",
       "        vertical-align: middle;\n",
       "    }\n",
       "\n",
       "    .dataframe tbody tr th {\n",
       "        vertical-align: top;\n",
       "    }\n",
       "\n",
       "    .dataframe thead th {\n",
       "        text-align: right;\n",
       "    }\n",
       "</style>\n",
       "<table border=\"1\" class=\"dataframe\">\n",
       "  <thead>\n",
       "    <tr style=\"text-align: right;\">\n",
       "      <th></th>\n",
       "      <th>X</th>\n",
       "      <th>Y</th>\n",
       "      <th>Z</th>\n",
       "    </tr>\n",
       "  </thead>\n",
       "  <tbody>\n",
       "    <tr>\n",
       "      <th>0</th>\n",
       "      <td>1.073362</td>\n",
       "      <td>-3.062679</td>\n",
       "      <td>-1.522723</td>\n",
       "    </tr>\n",
       "    <tr>\n",
       "      <th>1</th>\n",
       "      <td>1.682354</td>\n",
       "      <td>-2.044858</td>\n",
       "      <td>0.049009</td>\n",
       "    </tr>\n",
       "    <tr>\n",
       "      <th>2</th>\n",
       "      <td>3.249154</td>\n",
       "      <td>-3.985726</td>\n",
       "      <td>-1.704344</td>\n",
       "    </tr>\n",
       "    <tr>\n",
       "      <th>3</th>\n",
       "      <td>3.161406</td>\n",
       "      <td>-2.495953</td>\n",
       "      <td>-2.408461</td>\n",
       "    </tr>\n",
       "    <tr>\n",
       "      <th>4</th>\n",
       "      <td>-4.133008</td>\n",
       "      <td>-3.530258</td>\n",
       "      <td>-2.556629</td>\n",
       "    </tr>\n",
       "  </tbody>\n",
       "</table>\n",
       "</div>"
      ],
      "text/plain": [
       "          X         Y         Z\n",
       "0  1.073362 -3.062679 -1.522723\n",
       "1  1.682354 -2.044858  0.049009\n",
       "2  3.249154 -3.985726 -1.704344\n",
       "3  3.161406 -2.495953 -2.408461\n",
       "4 -4.133008 -3.530258 -2.556629"
      ]
     },
     "execution_count": 249,
     "metadata": {},
     "output_type": "execute_result"
    }
   ],
   "source": [
    "dt = pd.DataFrame({'X':X, 'Y':Y, 'Z':Z}, columns=['X', 'Y', 'Z'])\n",
    "dt.head()"
   ]
  },
  {
   "cell_type": "code",
   "execution_count": 250,
   "metadata": {
    "scrolled": true
   },
   "outputs": [
    {
     "name": "stdout",
     "output_type": "stream",
     "text": [
      "            X         Y         Z\n",
      "687  1.272183  4.549020  3.075767\n",
      "500  1.051890  1.226968  5.804348\n",
      "332  1.197669  2.416217  1.323168\n",
      "979 -0.790345  7.956349 -2.484372\n",
      "817 -6.657901  6.364223 -5.832156\n",
      "..        ...       ...       ...\n",
      "835 -0.885270  3.944236 -2.553127\n",
      "192 -3.960700 -3.259591  0.066675\n",
      "629  0.056549  2.549811  4.849102\n",
      "559  3.944743  3.937570  4.198948\n",
      "684 -0.079217  2.645959  4.032797\n",
      "\n",
      "[800 rows x 3 columns]\n"
     ]
    }
   ],
   "source": [
    "X_train, X_test, Y_train, Y_test = train_test_split(dt, labels3D, test_size=0.2, random_state=0)\n",
    "print(X_train)"
   ]
  },
  {
   "cell_type": "markdown",
   "metadata": {},
   "source": [
    "## ACCURACY FOR 3D"
   ]
  },
  {
   "cell_type": "code",
   "execution_count": 251,
   "metadata": {
    "scrolled": true
   },
   "outputs": [
    {
     "name": "stdout",
     "output_type": "stream",
     "text": [
      "[3, 3, 1, 2, 2, 3, 0, 0, 1, 2, 1, 2, 3, 0, 2, 0, 3, 0, 0, 0, 0, 1, 1, 1, 3, 3, 0, 0, 3, 0, 3, 2, 2, 3, 1, 2, 3, 1, 3, 1, 0, 3, 2, 2, 1, 3, 3, 0, 1, 2, 1, 1, 1, 1, 3, 2, 1, 1, 3, 1, 2, 2, 0, 0, 1, 0, 1, 2, 1, 2, 2, 1, 2, 0, 3, 1, 1, 3, 2, 2, 1, 1, 1, 3, 3, 2, 0, 2, 1, 3, 1, 1, 3, 1, 2, 1, 2, 0, 1, 2, 3, 3, 0, 3, 1, 2, 2, 3, 3, 0, 0, 2, 1, 2, 1, 1, 2, 1, 1, 2, 3, 3, 0, 3, 0, 3, 1, 1, 3, 2, 1, 2, 2, 2, 3, 2, 1, 0, 2, 3, 0, 2, 2, 0, 1, 1, 1, 1, 0, 0, 1, 0, 1, 3, 3, 3, 1, 1, 3, 1, 2, 3, 2, 3, 3, 1, 1, 3, 1, 1, 3, 3, 0, 3, 1, 3, 0, 2, 3, 0, 3, 3, 1, 1, 3, 3, 2, 1, 3, 0, 3, 3, 1, 0, 3, 2, 2, 0, 2, 0]\n",
      "\n",
      "\n",
      "[3, 3, 1, 2, 2, 3, 0, 0, 2, 2, 1, 1, 3, 0, 2, 1, 3, 0, 0, 0, 0, 1, 1, 1, 3, 3, 0, 0, 3, 0, 3, 2, 2, 3, 0, 2, 3, 1, 3, 1, 0, 3, 2, 2, 1, 3, 3, 0, 1, 2, 1, 1, 1, 1, 3, 2, 1, 1, 3, 2, 2, 2, 0, 0, 1, 0, 1, 2, 1, 2, 2, 1, 2, 0, 3, 1, 1, 3, 2, 2, 1, 0, 1, 3, 3, 2, 0, 2, 1, 3, 1, 1, 3, 1, 2, 2, 2, 0, 1, 1, 3, 1, 0, 3, 1, 2, 2, 3, 3, 0, 0, 2, 1, 2, 1, 1, 2, 1, 1, 2, 3, 3, 0, 3, 0, 3, 1, 1, 3, 2, 1, 2, 2, 2, 3, 2, 1, 0, 2, 3, 0, 2, 2, 0, 1, 2, 1, 0, 0, 0, 1, 0, 1, 3, 3, 3, 1, 3, 3, 1, 1, 3, 2, 3, 3, 0, 2, 3, 1, 1, 3, 3, 0, 3, 1, 3, 0, 2, 3, 0, 3, 0, 1, 1, 3, 3, 2, 1, 3, 1, 3, 3, 1, 0, 3, 2, 2, 0, 2, 0]\n",
      "Accuracy of the predictions on the 3D test dataset is 0.915\n"
     ]
    }
   ],
   "source": [
    "prediction_results = predictions(X_test, X_train, Y_train)\n",
    "print(Y_test)\n",
    "print(\"\\n\")\n",
    "print(prediction_results)\n",
    "print(\"Accuracy of the predictions on the 3D test dataset is \" + str(accuracy_score(Y_test, prediction_results)))"
   ]
  },
  {
   "cell_type": "markdown",
   "metadata": {},
   "source": [
    "### ACTUAL VS PREDICTED LABELS VISUALIZATION"
   ]
  },
  {
   "cell_type": "code",
   "execution_count": 252,
   "metadata": {},
   "outputs": [
    {
     "data": {
      "image/png": "[encoded data removed]",
      "text/plain": [
       "<Figure size 432x288 with 2 Axes>"
      ]
     },
     "metadata": {
      "needs_background": "light"
     },
     "output_type": "display_data"
    }
   ],
   "source": [
    "plt.subplot(1, 2, 1)\n",
    "plt.scatter(X_train.iloc[:,0],X_train.iloc[:,1], s=25, c=Y_train, marker=\".\")\n",
    "plt.scatter(X_test.iloc[:,0],X_test.iloc[:,1], s=50, c=Y_test, marker=\"v\")\n",
    "plt.title(\"Actual labels\")\n",
    "\n",
    "plt.subplot(1, 2, 2)\n",
    "plt.scatter(X_train.iloc[:,0],X_train.iloc[:,1], s=25, c=Y_train, marker=\".\")\n",
    "plt.scatter(X_test.iloc[:,0],X_test.iloc[:,1], s=50, c=prediction_results, marker=\"v\")\n",
    "plt.title(\"Predicted labels\")\n",
    "\n",
    "plt.tight_layout()\n",
    "plt.show()"
   ]
  }
 ],
 "metadata": {
  "kernelspec": {
   "display_name": "Python 3 (ipykernel)",
   "language": "python",
   "name": "python3"
  },
  "language_info": {
   "codemirror_mode": {
    "name": "ipython",
    "version": 3
   },
   "file_extension": ".py",
   "mimetype": "text/x-python",
   "name": "python",
   "nbconvert_exporter": "python",
   "pygments_lexer": "ipython3",
   "version": "3.9.7"
  }
 },
 "nbformat": 4,
 "nbformat_minor": 4
}
