{
 "cells": [
  {
   "cell_type": "markdown",
   "metadata": {},
   "source": [
    "# <b>CS156 (Introduction to AI), Spring 2022</b>\n",
    "# <u><b>Homework 7 submission</b></u>"
   ]
  },
  {
   "cell_type": "markdown",
   "metadata": {},
   "source": [
    "### Roster Name: Andrew Vu\n",
    "### Student ID: 015055911\n",
    "### Email address: andrew.k.vu@sjsu.edu\n",
    "Any special notes or anything you would like to communicate to me about this homework submission goes in here."
   ]
  },
  {
   "cell_type": "markdown",
   "metadata": {},
   "source": [
    "##  <u>References and sources </u>"
   ]
  },
  {
   "cell_type": "markdown",
   "metadata": {},
   "source": [
    "List all your references and sources here.\n",
    "This includes all sites/discussion boards/blogs/posts/etc. where you grabbed some code examples.\n",
    "\n",
    "- https://www.geeksforgeeks.org/violinplot-using-seaborn-in-python/\n",
    "- https://stackoverflow.com/questions/68629457/seaborn-grouped-violin-plot-without-pandas\n",
    "- https://seaborn.pydata.org/generated/seaborn.swarmplot.html#seaborn.swarmplot"
   ]
  },
  {
   "cell_type": "markdown",
   "metadata": {},
   "source": [
    "##  <u>Solution</u>"
   ]
  },
  {
   "cell_type": "markdown",
   "metadata": {},
   "source": [
    "#### Load libraries and set random number generator seed"
   ]
  },
  {
   "cell_type": "code",
   "execution_count": 137,
   "metadata": {},
   "outputs": [],
   "source": [
    "import numpy as np\n",
    "import pandas as pd\n",
    "import seaborn as sns\n",
    "import matplotlib.pyplot as plt\n",
    "\n",
    "from sklearn import datasets\n",
    "from sklearn.model_selection import train_test_split\n",
    "from sklearn.neural_network import MLPClassifier\n",
    "\n",
    "from sklearn.model_selection import StratifiedKFold\n",
    "from sklearn.model_selection import cross_val_score"
   ]
  },
  {
   "cell_type": "code",
   "execution_count": 138,
   "metadata": {},
   "outputs": [],
   "source": [
    "np.random.seed(42)"
   ]
  },
  {
   "cell_type": "markdown",
   "metadata": {},
   "source": [
    "#### Code the solution"
   ]
  },
  {
   "cell_type": "markdown",
   "metadata": {},
   "source": [
    "### Load the Dataset"
   ]
  },
  {
   "cell_type": "code",
   "execution_count": 139,
   "metadata": {},
   "outputs": [
    {
     "data": {
      "text/plain": [
       "((1797, 64), (1797,), array([0, 1, 2, 3, 4, 5, 6, 7, 8, 9]))"
      ]
     },
     "execution_count": 139,
     "metadata": {},
     "output_type": "execute_result"
    }
   ],
   "source": [
    "digits = datasets.load_digits()\n",
    "X = digits.data\n",
    "X = X.astype(\"float32\") / 255\n",
    "Y = digits.target\n",
    "class_names = digits.target_names\n",
    "X.shape, Y.shape, class_names"
   ]
  },
  {
   "cell_type": "code",
   "execution_count": 140,
   "metadata": {},
   "outputs": [
    {
     "data": {
      "text/html": [
       "<div>\n",
       "<style scoped>\n",
       "    .dataframe tbody tr th:only-of-type {\n",
       "        vertical-align: middle;\n",
       "    }\n",
       "\n",
       "    .dataframe tbody tr th {\n",
       "        vertical-align: top;\n",
       "    }\n",
       "\n",
       "    .dataframe thead th {\n",
       "        text-align: right;\n",
       "    }\n",
       "</style>\n",
       "<table border=\"1\" class=\"dataframe\">\n",
       "  <thead>\n",
       "    <tr style=\"text-align: right;\">\n",
       "      <th></th>\n",
       "      <th>pixel_0_0</th>\n",
       "      <th>pixel_0_1</th>\n",
       "      <th>pixel_0_2</th>\n",
       "      <th>pixel_0_3</th>\n",
       "      <th>pixel_0_4</th>\n",
       "      <th>pixel_0_5</th>\n",
       "      <th>pixel_0_6</th>\n",
       "      <th>pixel_0_7</th>\n",
       "      <th>pixel_1_0</th>\n",
       "      <th>pixel_1_1</th>\n",
       "      <th>...</th>\n",
       "      <th>pixel_6_7</th>\n",
       "      <th>pixel_7_0</th>\n",
       "      <th>pixel_7_1</th>\n",
       "      <th>pixel_7_2</th>\n",
       "      <th>pixel_7_3</th>\n",
       "      <th>pixel_7_4</th>\n",
       "      <th>pixel_7_5</th>\n",
       "      <th>pixel_7_6</th>\n",
       "      <th>pixel_7_7</th>\n",
       "      <th>output_digit</th>\n",
       "    </tr>\n",
       "  </thead>\n",
       "  <tbody>\n",
       "    <tr>\n",
       "      <th>0</th>\n",
       "      <td>0.0</td>\n",
       "      <td>0.0</td>\n",
       "      <td>0.019608</td>\n",
       "      <td>0.050980</td>\n",
       "      <td>0.035294</td>\n",
       "      <td>0.003922</td>\n",
       "      <td>0.0</td>\n",
       "      <td>0.0</td>\n",
       "      <td>0.0</td>\n",
       "      <td>0.000000</td>\n",
       "      <td>...</td>\n",
       "      <td>0.0</td>\n",
       "      <td>0.0</td>\n",
       "      <td>0.0</td>\n",
       "      <td>0.023529</td>\n",
       "      <td>0.050980</td>\n",
       "      <td>0.039216</td>\n",
       "      <td>0.000000</td>\n",
       "      <td>0.000000</td>\n",
       "      <td>0.0</td>\n",
       "      <td>0</td>\n",
       "    </tr>\n",
       "    <tr>\n",
       "      <th>1</th>\n",
       "      <td>0.0</td>\n",
       "      <td>0.0</td>\n",
       "      <td>0.000000</td>\n",
       "      <td>0.047059</td>\n",
       "      <td>0.050980</td>\n",
       "      <td>0.019608</td>\n",
       "      <td>0.0</td>\n",
       "      <td>0.0</td>\n",
       "      <td>0.0</td>\n",
       "      <td>0.000000</td>\n",
       "      <td>...</td>\n",
       "      <td>0.0</td>\n",
       "      <td>0.0</td>\n",
       "      <td>0.0</td>\n",
       "      <td>0.000000</td>\n",
       "      <td>0.043137</td>\n",
       "      <td>0.062745</td>\n",
       "      <td>0.039216</td>\n",
       "      <td>0.000000</td>\n",
       "      <td>0.0</td>\n",
       "      <td>1</td>\n",
       "    </tr>\n",
       "    <tr>\n",
       "      <th>2</th>\n",
       "      <td>0.0</td>\n",
       "      <td>0.0</td>\n",
       "      <td>0.000000</td>\n",
       "      <td>0.015686</td>\n",
       "      <td>0.058824</td>\n",
       "      <td>0.047059</td>\n",
       "      <td>0.0</td>\n",
       "      <td>0.0</td>\n",
       "      <td>0.0</td>\n",
       "      <td>0.000000</td>\n",
       "      <td>...</td>\n",
       "      <td>0.0</td>\n",
       "      <td>0.0</td>\n",
       "      <td>0.0</td>\n",
       "      <td>0.000000</td>\n",
       "      <td>0.011765</td>\n",
       "      <td>0.043137</td>\n",
       "      <td>0.062745</td>\n",
       "      <td>0.035294</td>\n",
       "      <td>0.0</td>\n",
       "      <td>2</td>\n",
       "    </tr>\n",
       "    <tr>\n",
       "      <th>3</th>\n",
       "      <td>0.0</td>\n",
       "      <td>0.0</td>\n",
       "      <td>0.027451</td>\n",
       "      <td>0.058824</td>\n",
       "      <td>0.050980</td>\n",
       "      <td>0.003922</td>\n",
       "      <td>0.0</td>\n",
       "      <td>0.0</td>\n",
       "      <td>0.0</td>\n",
       "      <td>0.031373</td>\n",
       "      <td>...</td>\n",
       "      <td>0.0</td>\n",
       "      <td>0.0</td>\n",
       "      <td>0.0</td>\n",
       "      <td>0.027451</td>\n",
       "      <td>0.050980</td>\n",
       "      <td>0.050980</td>\n",
       "      <td>0.035294</td>\n",
       "      <td>0.000000</td>\n",
       "      <td>0.0</td>\n",
       "      <td>3</td>\n",
       "    </tr>\n",
       "    <tr>\n",
       "      <th>4</th>\n",
       "      <td>0.0</td>\n",
       "      <td>0.0</td>\n",
       "      <td>0.000000</td>\n",
       "      <td>0.003922</td>\n",
       "      <td>0.043137</td>\n",
       "      <td>0.000000</td>\n",
       "      <td>0.0</td>\n",
       "      <td>0.0</td>\n",
       "      <td>0.0</td>\n",
       "      <td>0.000000</td>\n",
       "      <td>...</td>\n",
       "      <td>0.0</td>\n",
       "      <td>0.0</td>\n",
       "      <td>0.0</td>\n",
       "      <td>0.000000</td>\n",
       "      <td>0.007843</td>\n",
       "      <td>0.062745</td>\n",
       "      <td>0.015686</td>\n",
       "      <td>0.000000</td>\n",
       "      <td>0.0</td>\n",
       "      <td>4</td>\n",
       "    </tr>\n",
       "  </tbody>\n",
       "</table>\n",
       "<p>5 rows × 65 columns</p>\n",
       "</div>"
      ],
      "text/plain": [
       "   pixel_0_0  pixel_0_1  pixel_0_2  pixel_0_3  pixel_0_4  pixel_0_5  \\\n",
       "0        0.0        0.0   0.019608   0.050980   0.035294   0.003922   \n",
       "1        0.0        0.0   0.000000   0.047059   0.050980   0.019608   \n",
       "2        0.0        0.0   0.000000   0.015686   0.058824   0.047059   \n",
       "3        0.0        0.0   0.027451   0.058824   0.050980   0.003922   \n",
       "4        0.0        0.0   0.000000   0.003922   0.043137   0.000000   \n",
       "\n",
       "   pixel_0_6  pixel_0_7  pixel_1_0  pixel_1_1  ...  pixel_6_7  pixel_7_0  \\\n",
       "0        0.0        0.0        0.0   0.000000  ...        0.0        0.0   \n",
       "1        0.0        0.0        0.0   0.000000  ...        0.0        0.0   \n",
       "2        0.0        0.0        0.0   0.000000  ...        0.0        0.0   \n",
       "3        0.0        0.0        0.0   0.031373  ...        0.0        0.0   \n",
       "4        0.0        0.0        0.0   0.000000  ...        0.0        0.0   \n",
       "\n",
       "   pixel_7_1  pixel_7_2  pixel_7_3  pixel_7_4  pixel_7_5  pixel_7_6  \\\n",
       "0        0.0   0.023529   0.050980   0.039216   0.000000   0.000000   \n",
       "1        0.0   0.000000   0.043137   0.062745   0.039216   0.000000   \n",
       "2        0.0   0.000000   0.011765   0.043137   0.062745   0.035294   \n",
       "3        0.0   0.027451   0.050980   0.050980   0.035294   0.000000   \n",
       "4        0.0   0.000000   0.007843   0.062745   0.015686   0.000000   \n",
       "\n",
       "   pixel_7_7  output_digit  \n",
       "0        0.0             0  \n",
       "1        0.0             1  \n",
       "2        0.0             2  \n",
       "3        0.0             3  \n",
       "4        0.0             4  \n",
       "\n",
       "[5 rows x 65 columns]"
      ]
     },
     "execution_count": 140,
     "metadata": {},
     "output_type": "execute_result"
    }
   ],
   "source": [
    "digits_df = pd.DataFrame(X, columns=digits.feature_names)\n",
    "digits_df['output_digit'] = Y\n",
    "digits_df.head()"
   ]
  },
  {
   "cell_type": "markdown",
   "metadata": {},
   "source": [
    "### Split data into training and test & stratify"
   ]
  },
  {
   "cell_type": "code",
   "execution_count": 141,
   "metadata": {},
   "outputs": [
    {
     "data": {
      "text/plain": [
       "((1437, 64), (360, 64), (1437,), (360,))"
      ]
     },
     "execution_count": 141,
     "metadata": {},
     "output_type": "execute_result"
    }
   ],
   "source": [
    "X_train, X_test, Y_train, Y_test = train_test_split(X, Y, test_size=0.2, random_state=0, stratify=Y)\n",
    "X_train.shape, X_test.shape, Y_train.shape, Y_test.shape"
   ]
  },
  {
   "cell_type": "markdown",
   "metadata": {},
   "source": [
    "### 6 different MLP models"
   ]
  },
  {
   "cell_type": "code",
   "execution_count": 142,
   "metadata": {},
   "outputs": [],
   "source": [
    "# change to 10000 max iter\n",
    "model1 = MLPClassifier(random_state=1, max_iter=10000).fit(X_train, Y_train)\n",
    "model2 = MLPClassifier(hidden_layer_sizes=(400,150,50), activation = 'relu', random_state=1, max_iter=10000).fit(X_train, Y_train)\n",
    "model3 = MLPClassifier(hidden_layer_sizes=(64,32,8), activation = 'relu', random_state=1, max_iter=10000).fit(X_train, Y_train)\n",
    "model4 = MLPClassifier(hidden_layer_sizes=(32,16), activation = 'relu', random_state=1, max_iter=10000).fit(X_train, Y_train)\n",
    "model5 = MLPClassifier(hidden_layer_sizes=(120,64,16), activation = 'relu', random_state=1, max_iter=10000).fit(X_train, Y_train)\n",
    "model6 = MLPClassifier(hidden_layer_sizes=(320,120,32), activation = 'relu', random_state=1, max_iter=10000).fit(X_train, Y_train)"
   ]
  },
  {
   "cell_type": "markdown",
   "metadata": {},
   "source": [
    "### Stratified 5-fold cross-val prediction accuracy per fold"
   ]
  },
  {
   "cell_type": "code",
   "execution_count": 143,
   "metadata": {},
   "outputs": [
    {
     "name": "stdout",
     "output_type": "stream",
     "text": [
      "Individual cross-validation accuracies for Model 1: [0.96180556 0.98263889 0.95818815 0.96864111 0.96515679]\n",
      "Individual cross-validation accuracies for Model 2: [0.95486111 0.97569444 0.95121951 0.95818815 0.95121951]\n",
      "Individual cross-validation accuracies for Model 3: [0.93402778 0.95833333 0.92682927 0.93031359 0.93728223]\n",
      "Individual cross-validation accuracies for Model 4: [0.9375     0.95486111 0.91289199 0.95121951 0.94425087]\n",
      "Individual cross-validation accuracies for Model 5: [0.94444444 0.96527778 0.95121951 0.93728223 0.94425087]\n",
      "Individual cross-validation accuracies for Model 6: [0.94791667 0.97222222 0.94425087 0.95121951 0.95121951]\n"
     ]
    }
   ],
   "source": [
    "cross_vals1 = cross_val_score(model1, X_train, Y_train, cv=5)\n",
    "cross_vals2 = cross_val_score(model2, X_train, Y_train, cv=5)\n",
    "cross_vals3 = cross_val_score(model3, X_train, Y_train, cv=5)\n",
    "cross_vals4 = cross_val_score(model4, X_train, Y_train, cv=5)\n",
    "cross_vals5 = cross_val_score(model5, X_train, Y_train, cv=5)\n",
    "cross_vals6 = cross_val_score(model6, X_train, Y_train, cv=5)\n",
    "\n",
    "print('Individual cross-validation accuracies for Model 1: ' + str(cross_vals1))\n",
    "print('Individual cross-validation accuracies for Model 2: ' + str(cross_vals2))\n",
    "print('Individual cross-validation accuracies for Model 3: ' + str(cross_vals3))\n",
    "print('Individual cross-validation accuracies for Model 4: ' + str(cross_vals4))\n",
    "print('Individual cross-validation accuracies for Model 5: ' + str(cross_vals5))\n",
    "print('Individual cross-validation accuracies for Model 6: ' + str(cross_vals6))"
   ]
  },
  {
   "cell_type": "markdown",
   "metadata": {},
   "source": [
    "### Prediction Accuracy for each model on test set"
   ]
  },
  {
   "cell_type": "code",
   "execution_count": 144,
   "metadata": {},
   "outputs": [
    {
     "name": "stdout",
     "output_type": "stream",
     "text": [
      "Accuracy of MLPClassifier Model1 on test set: 0.97\n",
      "Accuracy of MLPClassifier Model2 on test set: 0.95\n",
      "Accuracy of MLPClassifier Model3 on test set: 0.94\n",
      "Accuracy of MLPClassifier Model4 on test set: 0.93\n",
      "Accuracy of MLPClassifier Model5 on test set: 0.95\n",
      "Accuracy of MLPClassifier Model6 on test set: 0.95\n"
     ]
    }
   ],
   "source": [
    "model1accuracy = model1.score(X_test, Y_test)\n",
    "model2accuracy = model2.score(X_test, Y_test)\n",
    "model3accuracy = model3.score(X_test, Y_test)\n",
    "model4accuracy = model4.score(X_test, Y_test)\n",
    "model5accuracy = model5.score(X_test, Y_test)\n",
    "model6accuracy = model6.score(X_test, Y_test)\n",
    "\n",
    "print('Accuracy of MLPClassifier Model1 on test set: {:.2f}'.format(model1accuracy))\n",
    "print('Accuracy of MLPClassifier Model2 on test set: {:.2f}'.format(model2accuracy))\n",
    "print('Accuracy of MLPClassifier Model3 on test set: {:.2f}'.format(model3accuracy))\n",
    "print('Accuracy of MLPClassifier Model4 on test set: {:.2f}'.format(model4accuracy))\n",
    "print('Accuracy of MLPClassifier Model5 on test set: {:.2f}'.format(model5accuracy))\n",
    "print('Accuracy of MLPClassifier Model6 on test set: {:.2f}'.format(model6accuracy))"
   ]
  },
  {
   "cell_type": "markdown",
   "metadata": {},
   "source": [
    "### Setting up the variables for plotting"
   ]
  },
  {
   "cell_type": "code",
   "execution_count": 145,
   "metadata": {},
   "outputs": [],
   "source": [
    "models = ['Model1', 'Model1', 'Model1', 'Model1', 'Model1', \n",
    "          'Model2', 'Model2', 'Model2', 'Model2', 'Model2', \n",
    "          'Model3', 'Model3', 'Model3', 'Model3', 'Model3', \n",
    "          'Model4', 'Model4', 'Model4', 'Model4', 'Model4', \n",
    "          'Model5', 'Model5', 'Model5', 'Model5', 'Model5', \n",
    "          'Model6', 'Model6', 'Model6', 'Model6', 'Model6']\n",
    "models_for_score = ['Model1', 'Model2', 'Model3', 'Model4', 'Model5', 'Model6'] \n",
    "modelnumber = [1, 2, 3, 4, 5, 6]\n",
    "model_accs = [model1accuracy, model2accuracy, model3accuracy, model4accuracy, model5accuracy, model6accuracy]\n",
    "vals = np.array([cross_vals1, cross_vals2, cross_vals3, cross_vals4, cross_vals5, cross_vals6])\n",
    "vals = vals.flatten()\n"
   ]
  },
  {
   "cell_type": "markdown",
   "metadata": {},
   "source": [
    "### Plotting the cross vals & test set accuracy"
   ]
  },
  {
   "cell_type": "code",
   "execution_count": 146,
   "metadata": {},
   "outputs": [
    {
     "name": "stdout",
     "output_type": "stream",
     "text": [
      "AxesSubplot(0.125,0.125;0.775x0.755)\n"
     ]
    },
    {
     "data": {
      "image/png": "[encoded data removed]",
      "text/plain": [
       "<Figure size 432x288 with 1 Axes>"
      ]
     },
     "metadata": {},
     "output_type": "display_data"
    }
   ],
   "source": [
    "fig, ax = plt.subplots()\n",
    "\n",
    "# cross vals plot\n",
    "sns.set(style = 'whitegrid')\n",
    "vplot = sns.violinplot(x = models, y = vals, inner = \"quartile\", ax = ax)\n",
    "vplot.set_xlabel(\"Models\")\n",
    "vplot.set_ylabel(\"Cross Vals\")\n",
    "\n",
    "# could not figure out a way for pink X's, so i just used regular dots\n",
    "# test data accuracy plot\n",
    "vplot = sns.swarmplot(x = models_for_score, y = model_accs, color = 'pink', edgecolor = 'white', size = 15, ax = ax)\n",
    "\n",
    "print(vplot)"
   ]
  },
  {
   "cell_type": "code",
   "execution_count": null,
   "metadata": {},
   "outputs": [],
   "source": []
  }
 ],
 "metadata": {
  "kernelspec": {
   "display_name": "Python 3 (ipykernel)",
   "language": "python",
   "name": "python3"
  },
  "language_info": {
   "codemirror_mode": {
    "name": "ipython",
    "version": 3
   },
   "file_extension": ".py",
   "mimetype": "text/x-python",
   "name": "python",
   "nbconvert_exporter": "python",
   "pygments_lexer": "ipython3",
   "version": "3.9.7"
  }
 },
 "nbformat": 4,
 "nbformat_minor": 4
}
